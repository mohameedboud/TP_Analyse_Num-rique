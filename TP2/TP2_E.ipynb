{
 "cells": [
  {
   "cell_type": "markdown",
   "metadata": {},
   "source": [
    "# TP2 Interpolation Numérique \n",
    "<img src=\"tp2an.png\">"
   ]
  },
  {
   "cell_type": "markdown",
   "metadata": {},
   "source": [
    "## Exercice 1"
   ]
  },
  {
   "cell_type": "markdown",
   "metadata": {},
   "source": [
    "On considère le programme MATLAB suivant :\n",
    "``` octave\n",
    "function u=prog(x,y,c)\n",
    "S = y; \n",
    "n = length(x); \n",
    "for j=1:n\n",
    "    L = c-x; \n",
    "    for k=1:n\n",
    "        if (k == j)\n",
    "           L(k) = 1;\n",
    "        else\n",
    "           L(k) = L(k)/(x(j) - x(k));\n",
    "        end \n",
    "    end \n",
    "    S(j) = S(j)*prod(L); \n",
    "end \n",
    "u=sum(S); \n",
    "```"
   ]
  },
  {
   "cell_type": "markdown",
   "metadata": {},
   "source": [
    "## Version Python"
   ]
  },
  {
   "cell_type": "code",
   "execution_count": 1,
   "metadata": {},
   "outputs": [],
   "source": [
    "from numpy import prod\n",
    "def prog(x,y,c):\n",
    "    S = [] \n",
    "    n = len(x)\n",
    "    \n",
    "    for j in range(n):\n",
    "        L =[c-xx for xx in x]\n",
    "        for k in range(n):\n",
    "            if (k == j):                \n",
    "                L[k] = 1\n",
    "            else:\n",
    "                L[k] = L[k]/(x[j] - x[k])   \n",
    "        S.append(y[j]*prod(L))\n",
    "        \n",
    "    return  sum(S)"
   ]
  },
  {
   "cell_type": "code",
   "execution_count": 2,
   "metadata": {},
   "outputs": [
    {
     "name": "stdout",
     "output_type": "stream",
     "text": [
      "-1.0\n",
      "0.0\n",
      "2.0\n",
      "1.0\n",
      "3.0\n"
     ]
    },
    {
     "data": {
      "text/plain": [
       "8"
      ]
     },
     "execution_count": 2,
     "metadata": {},
     "output_type": "execute_result"
    }
   ],
   "source": [
    "\n",
    "X=[1 ,2 ,3 ,4,-2];\n",
    "Y=[-1, 0, 2 ,1,3];\n",
    "for i in X:\n",
    "    print(prog(X,Y,i))\n",
    "sum(X)"
   ]
  },
  {
   "cell_type": "markdown",
   "metadata": {},
   "source": [
    "**Polynome d'interpolation de Lagrange** \n",
    "> Soient $(x_0,y_0), \\ldots,(x_k,y_k),\\ldots ,(x_n,k_n)$ $n+1$ points deux à deux distincts, le polynôme d'interpolation de Lagrange associés à ces points supports est défini par :\n",
    "> $$P_n(x)=\\sum_{k=0}^{n-1} y_kL_k(x)$$\n",
    "\n",
    "avec $L_{0}(x)=\\displaystyle\\frac{(x-x_1)(x-x_2)\\ldots(x-x_{n})}{(x_0-x_1)(x_0-x_2)\\ldots(x_0-x_{n})}$ et $L_{k}(x)=\\displaystyle\\frac{(x-x_1)(x-x_2)\\ldots(x-x_{k-1})(x-x_{k+1})\\ldots(x_0-x_{n})}{(x_k-x_0)(x_k-x_1)\\ldots(x_k-x_{k-1})(x_k-x_{k+1})\\ldots(x_k-x_{n})}$ pour $k\\in \\{1,\\ldots,n\\}$"
   ]
  },
  {
   "cell_type": "markdown",
   "metadata": {},
   "source": [
    "1) Que renvoie la fonction PR lorsqu'on lui déclare  **x=(x(1),x(2),...,x(n))x=(x(1),x(2),...,x(n))**  et  **y=(y(1),y(2),...,y(n))y=(y(1),y(2),...,y(n))**  deux vecteurs de même longueur  `n` et `c`  un nombre réel donné."
   ]
  },
  {
   "cell_type": "markdown",
   "metadata": {},
   "source": [
    "## Code Python"
   ]
  },
  {
   "cell_type": "code",
   "execution_count": 1,
   "metadata": {},
   "outputs": [],
   "source": [
    "from numpy import prod\n",
    "def pr(x,y,c):\n",
    "    S = []\n",
    "    n = len(x)\n",
    "\n",
    "    for j in range(n):\n",
    "        L =[c-xx for xx in x]\n",
    "        for k in range(n):\n",
    "            if (k == j):               \n",
    "                L[k] = 1\n",
    "            else:\n",
    "                L[k] = L[k]/(x[j] - x[k])  \n",
    "\n",
    "        S.append(y[j]*prod(L))\n",
    "\n",
    "    return  sum(S)"
   ]
  },
  {
   "cell_type": "code",
   "execution_count": 2,
   "metadata": {},
   "outputs": [
    {
     "name": "stdout",
     "output_type": "stream",
     "text": [
      "-1.0\n",
      "0.0\n",
      "2.0\n",
      "1.0\n"
     ]
    }
   ],
   "source": [
    "X=[1, 2 ,3, 4];\n",
    "Y=[-1 ,0, 2 ,1];\n",
    "for i in X :\n",
    "    print(pr(X,Y,i))"
   ]
  },
  {
   "cell_type": "markdown",
   "metadata": {},
   "source": [
    "2) Que contient le vecteur  LL  après la fin de la boucle  kk ."
   ]
  },
  {
   "cell_type": "code",
   "execution_count": 9,
   "metadata": {},
   "outputs": [],
   "source": [
    "x=[1,2,3,4]\n",
    "y=[-1,0,2,1]"
   ]
  },
  {
   "cell_type": "code",
   "execution_count": 10,
   "metadata": {},
   "outputs": [],
   "source": [
    "def pr2(x,y,c):\n",
    "    S = []\n",
    "    n = len(x)\n",
    "\n",
    "    for j in range(n):\n",
    "        L =[c-xx for xx in x]\n",
    "        for k in range(n):\n",
    "            if (k == j):               \n",
    "                L[k] = 1\n",
    "            else:\n",
    "                L[k] = L[k]/(x[j] - x[k])  \n",
    "        S.append(y[j]*prod(L))\n",
    "    return  L"
   ]
  },
  {
   "cell_type": "code",
   "execution_count": 11,
   "metadata": {},
   "outputs": [
    {
     "name": "stdout",
     "output_type": "stream",
     "text": [
      "[1.0, 1.0, 1.0, 1]\n"
     ]
    }
   ],
   "source": [
    "for i in X:\n",
    "    L=pr2(x,y,i)\n",
    "print (L)"
   ]
  },
  {
   "cell_type": "markdown",
   "metadata": {},
   "source": [
    "3) Utiliser cette fonction pour dessiner le graph du polynôme de Lagrange  de la fonction $f(x) = \\dfrac{1}{1 + x^2}$ aux points $x=[-1:0.1:1]$."
   ]
  },
  {
   "cell_type": "code",
   "execution_count": 13,
   "metadata": {},
   "outputs": [
    {
     "data": {
      "image/png": "[encoded data removed]",
      "text/plain": [
       "<Figure size 432x288 with 1 Axes>"
      ]
     },
     "metadata": {
      "needs_background": "light"
     },
     "output_type": "display_data"
    }
   ],
   "source": [
    "\n",
    "import numpy as np\n",
    "import matplotlib.pyplot as plt\n",
    "x=np.arange(-1,0.1,1)\n",
    "f= lambda x:1/(1+x**2)\n",
    "y=f(x)\n",
    "pt=[]\n",
    "t=np.linspace(-1,1,100)\n",
    "for u in range (len(t)):\n",
    "    pt.append(pr(x,y,t[i])) \n",
    "plt.plot(t,pt,\"r\",x,y,\"bo\",t,f(t),\"g\")\n",
    "plt.show()"
   ]
  },
  {
   "cell_type": "markdown",
   "metadata": {},
   "source": [
    "4) On considère la fonction $F$ suivante :\n",
    "$$\n",
    "F(h) = \\pi -\\cos \\left(\\frac{h}{2}\\right) + h \\sqrt{1-\\left(\\frac{h}{2}\\right)^2}, \\qquad\n",
    "h\\in [0,2],\n",
    "$$\n",
    "et les points d'interpolation $x_i = ih$, $0\\leq i\\leq n$, avec $ n=20$ et $h=0.1$."
   ]
  },
  {
   "cell_type": "markdown",
   "metadata": {},
   "source": [
    "4.1) Représenter sur un même graphe la fonction $F$ et $p_n$, où\n",
    " $p_n$ est le polynôme d'interpolation de Lagrange de $F$ aux\n",
    " points $x_0,\\,\\ldots,\\,x_n$."
   ]
  },
  {
   "cell_type": "code",
   "execution_count": 14,
   "metadata": {},
   "outputs": [
    {
     "data": {
      "image/png": "[encoded data removed]",
      "text/plain": [
       "<Figure size 432x288 with 1 Axes>"
      ]
     },
     "metadata": {
      "needs_background": "light"
     },
     "output_type": "display_data"
    }
   ],
   "source": [
    "import numpy as np\n",
    "import matplotlib.pyplot as plt\n",
    "from math import *\n",
    "x=np.arange(0,3)\n",
    "f= lambda x:pi-cos(x/2)+x*sqrt(1-(x/2)**2)\n",
    "f2=np.vectorize(f)\n",
    "y=f2(x)\n",
    "ptt=[]\n",
    "t=np.linspace(-1,1,100)\n",
    "for i in range (len(t)):\n",
    "    ptt.append(pr(x,y,t[i])) \n",
    "plt.plot(t,ptt,\"r\",x,y,\"bo\",t,f2(t),\"g\")\n",
    "plt.show()"
   ]
  },
  {
   "cell_type": "markdown",
   "metadata": {},
   "source": [
    "2)Tracer la courbe d'erreur  (la\n",
    " fonction $F-p_n$). Qu'observer vous."
   ]
  },
  {
   "cell_type": "code",
   "execution_count": 15,
   "metadata": {},
   "outputs": [
    {
     "data": {
      "image/png": "[encoded data removed]",
      "text/plain": [
       "<Figure size 432x288 with 1 Axes>"
      ]
     },
     "metadata": {
      "needs_background": "light"
     },
     "output_type": "display_data"
    }
   ],
   "source": [
    "plt.plot(t,f2(t)-ptt,\"r\")\n",
    "plt.show()"
   ]
  },
  {
   "cell_type": "markdown",
   "metadata": {},
   "source": [
    "## Exercice 2  ( Phenomène de Runge )"
   ]
  },
  {
   "cell_type": "markdown",
   "metadata": {},
   "source": [
    "1) Vérifier que sur $[-5,5]$ le polynôme d'interpolation de Lagrange\n",
    "  de la fonction $f$ définie par $f(x)=\\displaystyle{\\frac{1}{1+x^2}}$,\n",
    "en $N$ points uniformément espacés ne convergent pas correctement aux voisinages de $-1$ et $1$, pour $N=7,8,9,10 ...$"
   ]
  },
  {
   "cell_type": "code",
   "execution_count": 67,
   "metadata": {},
   "outputs": [
    {
     "data": {
      "image/png": "[encoded data removed]",
      "text/plain": [
       "<Figure size 432x288 with 4 Axes>"
      ]
     },
     "metadata": {
      "needs_background": "light"
     },
     "output_type": "display_data"
    }
   ],
   "source": [
    "import matplotlib.pyplot as plt\n",
    "N=7\n",
    "X=np.linspace(-5,5,N)\n",
    "f= lambda x:1/(1+x**2)\n",
    "Y=f(X)\n",
    "p=np.polyfit(X,Y,N-1);\n",
    "t=np.linspace(-5,5,1000);\n",
    "fig,((ax1, ax2), (ax3, ax4)) = plt.subplots(2, 2)\n",
    "fig.suptitle('Interpolation Equidistante')\n",
    "ax1.plot(t,f(t),'r',X,Y,'ob', t,np.polyval(p,t),'g')\n",
    "ax1.set_title('Interpolation  avec N=7')\n",
    "\n",
    "N=8\n",
    "X=np.linspace(-5,5,N)\n",
    "f= lambda x:1/(1+x**2)\n",
    "Y=f(X)\n",
    "p=np.polyfit(X,Y,N-1);\n",
    "t=np.linspace(-5,5,1000);\n",
    "\n",
    "ax2.plot(t,f(t),'r',X,Y,'ob', t,np.polyval(p,t),'g')\n",
    "ax2.set_title('Interpolation avec N=8')\n",
    "\n",
    "N=9\n",
    "X=np.linspace(-5,5,N)\n",
    "f= lambda x:1/(1+x**2)\n",
    "Y=f(X)\n",
    "p=np.polyfit(X,Y,N-1);\n",
    "t=np.linspace(-5,5,1000);\n",
    "\n",
    "ax3.plot(t,f(t),'r',X,Y,'ob', t,np.polyval(p,t),'g')\n",
    "ax3.set_title('Interpolation avec N=9')\n",
    "\n",
    "N=10\n",
    "X=np.linspace(-5,5,N)\n",
    "f= lambda x:1/(1+x**2)\n",
    "Y=f(X)\n",
    "p=np.polyfit(X,Y,N-1);\n",
    "t=np.linspace(-5,5,1000);\n",
    "\n",
    "ax4.plot(t,f(t),'r',X,Y,'ob', t,np.polyval(p,t),'g')\n",
    "ax4.set_title('Interpolation avec N=10')\n",
    "for ax in fig.get_axes():\n",
    "    ax.label_outer()"
   ]
  },
  {
   "cell_type": "markdown",
   "metadata": {},
   "source": [
    "2) Les points de Tchebycheff sur un intervalle $[a;b]$ sont définie par :\n",
    "  $$x_k=\\dfrac{a+b}{2}+\\dfrac{a-b}{2}\\cos\\left(\\frac{k-1}{n-1}\\pi\\right)\\hspace{0.5cm} (k=1,..,n: x_1=a:x_n=b)$$\n",
    "\n",
    "  Vérifier que sur $[-5; 5]$ ; l'interpolation polynômiale de $f(x) = \\dfrac{1}{1 + x^2}$ ; en $N$ points de Tchebychev\n",
    "est meilleure qu'une  interpolation utilisant $N$ points uniforment espacés (on prendra $N=10, 11, 16, 17$)."
   ]
  },
  {
   "cell_type": "code",
   "execution_count": 68,
   "metadata": {},
   "outputs": [],
   "source": [
    "from math import *\n",
    "def tcheb(a,b,n):\n",
    "    V=[]\n",
    "    for k in range(n):\n",
    "        V.append((a+b)/2+(a-b)/2*cos((k-1)/(n-1)*pi))\n",
    "    return V"
   ]
  },
  {
   "cell_type": "code",
   "execution_count": 69,
   "metadata": {},
   "outputs": [
    {
     "data": {
      "text/plain": [
       "[-4.755282581475767,\n",
       " -5.0,\n",
       " -4.755282581475767,\n",
       " -4.045084971874737,\n",
       " -2.938926261462366,\n",
       " -1.5450849718747373,\n",
       " -3.061616997868383e-16,\n",
       " 1.5450849718747368,\n",
       " 2.938926261462365,\n",
       " 4.045084971874736,\n",
       " 4.755282581475767]"
      ]
     },
     "execution_count": 69,
     "metadata": {},
     "output_type": "execute_result"
    }
   ],
   "source": [
    "tcheb(-5,5,11)"
   ]
  },
  {
   "cell_type": "code",
   "execution_count": 70,
   "metadata": {},
   "outputs": [
    {
     "name": "stderr",
     "output_type": "stream",
     "text": [
      "C:\\Users\\Med Boudriga\\anaconda3\\lib\\site-packages\\IPython\\core\\interactiveshell.py:3437: RankWarning: Polyfit may be poorly conditioned\n",
      "  exec(code_obj, self.user_global_ns, self.user_ns)\n",
      "C:\\Users\\Med Boudriga\\anaconda3\\lib\\site-packages\\IPython\\core\\interactiveshell.py:3437: RankWarning: Polyfit may be poorly conditioned\n",
      "  exec(code_obj, self.user_global_ns, self.user_ns)\n",
      "C:\\Users\\Med Boudriga\\anaconda3\\lib\\site-packages\\IPython\\core\\interactiveshell.py:3437: RankWarning: Polyfit may be poorly conditioned\n",
      "  exec(code_obj, self.user_global_ns, self.user_ns)\n",
      "C:\\Users\\Med Boudriga\\anaconda3\\lib\\site-packages\\IPython\\core\\interactiveshell.py:3437: RankWarning: Polyfit may be poorly conditioned\n",
      "  exec(code_obj, self.user_global_ns, self.user_ns)\n"
     ]
    },
    {
     "data": {
      "text/plain": [
       "Text(0.5, 1.0, 'Tchebycheff avec N=17')"
      ]
     },
     "execution_count": 70,
     "metadata": {},
     "output_type": "execute_result"
    },
    {
     "data": {
      "image/png": "[encoded data removed]",
      "text/plain": [
       "<Figure size 432x288 with 4 Axes>"
      ]
     },
     "metadata": {
      "needs_background": "light"
     },
     "output_type": "display_data"
    }
   ],
   "source": [
    "import numpy as np\n",
    "from math import *\n",
    "import matplotlib.pyplot as plt\n",
    "Yt=[]\n",
    "N=10\n",
    "f=lambda x:1/(1+x**2)\n",
    "Xt=tcheb(-5,5,N)\n",
    "for i in Xt:\n",
    "    Yt.append(f(i))\n",
    "pt=np.polyfit(Xt,Yt,N-1)\n",
    "fig,((ax1, ax2), (ax3, ax4)) = plt.subplots(2, 2)\n",
    "fig.suptitle('Interpolation Equidistante')\n",
    "ax1.plot(t,f(t),'r',Xt,Yt,'ob', t,np.polyval(pt,t),'g')\n",
    "ax1.set_title(\"Tchebycheff avec N=10\")\n",
    "\n",
    "Yt=[]\n",
    "\n",
    "N=11\n",
    "f=lambda x:1/(1+x**2)\n",
    "Xt=tcheb(-5,5,N)\n",
    "for i in Xt:\n",
    "    Yt.append(f(i))\n",
    "pt=np.polyfit(Xt,Yt,N-1)\n",
    "ax2.plot(t,f(t),'r',Xt,Yt,'ob', t,np.polyval(pt,t),'g')\n",
    "ax2.set_title(\"Tchebycheff avec N=11\")\n",
    "#\n",
    "Yt=[]\n",
    "N=16\n",
    "f=lambda x:1/(1+x**2)\n",
    "Xt=tcheb(-5,5,N)\n",
    "for i in Xt:\n",
    "    Yt.append(f(i))\n",
    "pt=np.polyfit(Xt,Yt,N-1)\n",
    "ax3.plot(t,f(t),'r',Xt,Yt,'ob', t,np.polyval(pt,t),'g')\n",
    "ax3.set_title(\" Tchebycheff avec N=16\")\n",
    "#\n",
    "Yt=[]\n",
    "N=17\n",
    "f=lambda x:1/(1+x**2)\n",
    "Xt=tcheb(-5,5,N)\n",
    "for i in Xt:\n",
    "    Yt.append(f(i))\n",
    "pt=np.polyfit(Xt,Yt,N-1)\n",
    "ax4.plot(t,f(t),'g',Xt,Yt,'ob', t,np.polyval(pt,t),'g')\n",
    "ax4.set_title(\"Tchebycheff avec N=17\")"
   ]
  },
  {
   "cell_type": "markdown",
   "metadata": {},
   "source": [
    "## Exercice 3"
   ]
  },
  {
   "cell_type": "markdown",
   "metadata": {},
   "source": [
    "On considère les deux programme MATLAB suivant :\n",
    "``` octave\n",
    "function f=intN(x,f)% RECURSIVE\n",
    "m=length(x);\n",
    "for k=2:m;\n",
    "    f(k:m)=(f(k:m)-f(k-1:m-1))./(x(k:m)-x(1:m+1-k))\n",
    "end\n",
    "``` \n",
    "``` octave\n",
    "function p=intNval(x,c,t)\n",
    "m=length(x);\n",
    "p=c(m)*ones(size(t));\n",
    "for k=m-1:-1:1;\n",
    "    p=p.*(t-x(k))+c(k);\n",
    "end\n",
    "```"
   ]
  },
  {
   "cell_type": "markdown",
   "metadata": {},
   "source": [
    "1) Déterminer en utilisant les deux codes puis par un calcul à la main le polynôme de Newton pour les données suivantes :\n",
    "\n",
    "\n",
    "<center>\n",
    "<table>    \n",
    "      $\\begin{array}{|c|c|c|}\n",
    "   \\hline\n",
    "   i & x_i  & y_i \\\\\n",
    "   \\hline\n",
    "   0 &   -1  &   6 \\\\\n",
    "   1 &   0 &  1 \\\\\n",
    "   2 &  2  &  3 \\\\\n",
    "   3 &  5  &  66 \\\\\n",
    "   \\hline\n",
    "\\end{array}$  \n",
    "</table>\n",
    "</center>"
   ]
  },
  {
   "cell_type": "code",
   "execution_count": 41,
   "metadata": {},
   "outputs": [],
   "source": [
    "def intN(x,y):\n",
    "    m=len(x)\n",
    "    f=np.zeros(m)\n",
    "    for k in range(1,m):\n",
    "        f[k:m+1]=np.array(np.array(y[k:m+1])-np.array(y[k-1:m-1]))/np.array(np.array(x[k:m+1])-np.array(x[0:m-k]))\n",
    "    return f"
   ]
  },
  {
   "cell_type": "code",
   "execution_count": 44,
   "metadata": {},
   "outputs": [
    {
     "data": {
      "text/plain": [
       "array([ 0.        , -5.        ,  0.66666667, 10.5       ])"
      ]
     },
     "execution_count": 44,
     "metadata": {},
     "output_type": "execute_result"
    }
   ],
   "source": [
    "x=[-1,0,2,5];\n",
    "y=[6,1,3,66];\n",
    "intN(x,y)"
   ]
  },
  {
   "cell_type": "code",
   "execution_count": 47,
   "metadata": {},
   "outputs": [],
   "source": [
    "def intNval(x,y,t):\n",
    "    m=len(x)\n",
    "    p=y[m-1]*np.ones(len(t))\n",
    "    for k in range(m-2,-1,-1):\n",
    "        p=p*np.array((np.array(t)-x[k]))+y[k]\n",
    "    return p\n",
    "\n"
   ]
  },
  {
   "cell_type": "code",
   "execution_count": 48,
   "metadata": {},
   "outputs": [],
   "source": [
    "x=[-1,0,2,5];\n",
    "y=[6,1,3,66];\n",
    "t=[0,1,2,3];\n",
    "f=intNval(x,y,t)"
   ]
  },
  {
   "cell_type": "code",
   "execution_count": null,
   "metadata": {},
   "outputs": [],
   "source": [
    "##Calcul a la main"
   ]
  },
  {
   "cell_type": "markdown",
   "metadata": {},
   "source": [
    "2) Donner le Graph du polynôme trouvé en 1) dans l'intervalle $[-1;5]$."
   ]
  },
  {
   "cell_type": "code",
   "execution_count": 58,
   "metadata": {},
   "outputs": [
    {
     "data": {
      "image/png": "[encoded data removed]",
      "text/plain": [
       "<Figure size 432x288 with 1 Axes>"
      ]
     },
     "metadata": {
      "needs_background": "light"
     },
     "output_type": "display_data"
    }
   ],
   "source": [
    "x=[-1,0,2,5]\n",
    "y=[6,1,3,66]\n",
    "f=intN(x,y)\n",
    "plt.plot(x,f,'b',x,y,'ob','r')\n",
    "plt.show()"
   ]
  },
  {
   "cell_type": "markdown",
   "metadata": {},
   "source": [
    "3) Calculer $P(1)$ en utilisant le polynôme trouvé en 1)."
   ]
  },
  {
   "cell_type": "code",
   "execution_count": 53,
   "metadata": {},
   "outputs": [
    {
     "data": {
      "text/plain": [
       "7.0"
      ]
     },
     "execution_count": 53,
     "metadata": {},
     "output_type": "execute_result"
    }
   ],
   "source": [
    "x=[-1,0,2,5]\n",
    "y=[6,1,3,66]\n",
    "t=[0,1,2,3]\n",
    "p=intNval(x,y,t)\n",
    "p[0]"
   ]
  },
  {
   "cell_type": "markdown",
   "metadata": {},
   "source": [
    "4) Recalculer à la main et puis à l'aide du Programme neville la valeur de $P(1)$."
   ]
  },
  {
   "cell_type": "code",
   "execution_count": null,
   "metadata": {},
   "outputs": [],
   "source": []
  }
 ],
 "metadata": {
  "kernelspec": {
   "display_name": "Python 3",
   "language": "python",
   "name": "python3"
  },
  "language_info": {
   "codemirror_mode": {
    "name": "ipython",
    "version": 3
   },
   "file_extension": ".py",
   "mimetype": "text/x-python",
   "name": "python",
   "nbconvert_exporter": "python",
   "pygments_lexer": "ipython3",
   "version": "3.8.8"
  }
 },
 "nbformat": 4,
 "nbformat_minor": 2
}
