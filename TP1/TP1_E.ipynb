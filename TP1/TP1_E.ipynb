{
 "cells": [
  {
   "cell_type": "markdown",
   "metadata": {},
   "source": [
    "#### <img src=\"tpan1.png\">\n",
    "\n"
   ]
  },
  {
   "cell_type": "markdown",
   "metadata": {},
   "source": [
    "*****"
   ]
  },
  {
   "cell_type": "markdown",
   "metadata": {},
   "source": [
    "## Exercice 1:<h2>\n",
    ">On considère le polynôme $p(x) = (x - 1)^6$. \n",
    ">\n",
    ">En développant on\n",
    ">peut écrire ce même polynôme sous la forme\n",
    ">$f(x) = x^6 - 6x^5 + 15x^4 - 20x^3 + 15x^2 - 6x + 1.$\n",
    ">\n",
    ">1) Avec Matlab évaluer $p(x)$ et $f(x)$ pour $x$ allant de $.998$ à\n",
    ">$1.002$ en choisissant des pas de $.0001$.\n",
    ">\n",
    ">2) Faire un graphique de $f(x)$ et $p(x)$. Commenter."
   ]
  },
  {
   "cell_type": "markdown",
   "metadata": {},
   "source": [
    "## MATLAB VS Python\n",
    "\n",
    "```python\n",
    "def p(x):\n",
    "    \"\"\"définir la fonction polynome  x^2+2x+1\"\"\"\n",
    "    return x**2+2*x+1\n",
    "```\n"
   ]
  },
  {
   "cell_type": "code",
   "execution_count": 1,
   "metadata": {},
   "outputs": [],
   "source": [
    "def prod(x,y):\n",
    "    ''' Cette fonction effectue le produit de deux nombre\n",
    "    '''\n",
    "    return x*y # cett eligne retourne le produit de x et y\n"
   ]
  },
  {
   "cell_type": "code",
   "execution_count": 2,
   "metadata": {},
   "outputs": [
    {
     "data": {
      "text/plain": [
       "30"
      ]
     },
     "execution_count": 2,
     "metadata": {},
     "output_type": "execute_result"
    }
   ],
   "source": [
    "prod(5,6)"
   ]
  },
  {
   "cell_type": "code",
   "execution_count": 3,
   "metadata": {},
   "outputs": [],
   "source": [
    "somme=lambda x,y,z: x+y+z"
   ]
  },
  {
   "cell_type": "code",
   "execution_count": 4,
   "metadata": {},
   "outputs": [
    {
     "name": "stdout",
     "output_type": "stream",
     "text": [
      "27\n",
      "0\n"
     ]
    }
   ],
   "source": [
    "print(somme(12,12,3))\n",
    "\n",
    "print(somme(0,0,0))"
   ]
  },
  {
   "cell_type": "code",
   "execution_count": 5,
   "metadata": {},
   "outputs": [
    {
     "name": "stdout",
     "output_type": "stream",
     "text": [
      "12\n",
      "hello world\n"
     ]
    }
   ],
   "source": [
    "print(somme(1,1,10))\n",
    "print('hello world')\n"
   ]
  },
  {
   "cell_type": "code",
   "execution_count": 9,
   "metadata": {},
   "outputs": [],
   "source": [
    "x='chaine'\n",
    "x1='azert'\n",
    "y=12\n",
    "z=12.3\n",
    "t=1+2j"
   ]
  },
  {
   "cell_type": "code",
   "execution_count": 61,
   "metadata": {},
   "outputs": [],
   "source": [
    "T=[11,21,312,421,511,1,2,3,4,5,6,11,21,312,421,511,1,2,3,4]\n",
    "# semi ouvert à droite\n",
    "M=[1,2,3]\n",
    "L=[0,1]\n",
    "M[1]=-1"
   ]
  },
  {
   "cell_type": "code",
   "execution_count": 39,
   "metadata": {},
   "outputs": [
    {
     "data": {
      "text/plain": [
       "[4, 3, 2, 1, 511, 421, 312, 21, 11, 6, 5, 4, 3, 2, 1, 511, 421, 312, 21, 11]"
      ]
     },
     "execution_count": 39,
     "metadata": {},
     "output_type": "execute_result"
    }
   ],
   "source": [
    "T[::-1]"
   ]
  },
  {
   "cell_type": "code",
   "execution_count": 63,
   "metadata": {},
   "outputs": [
    {
     "name": "stdout",
     "output_type": "stream",
     "text": [
      "hello world\n",
      "hello world\n",
      "hello world\n",
      "hello world\n",
      "hello world\n",
      "hello world\n",
      "hello world\n",
      "hello world\n",
      "hello world\n",
      "hello world\n",
      "?????????\n"
     ]
    }
   ],
   "source": [
    "for i in range(10):\n",
    "    print('hello world')\n",
    "print('?????????')  "
   ]
  },
  {
   "cell_type": "code",
   "execution_count": 67,
   "metadata": {},
   "outputs": [
    {
     "data": {
      "text/plain": [
       "['a',\n",
       " 'b',\n",
       " 'c',\n",
       " 'd',\n",
       " 'e',\n",
       " 'f',\n",
       " 'g',\n",
       " 'h',\n",
       " 'i',\n",
       " 'j',\n",
       " 'k',\n",
       " 'l',\n",
       " 'm',\n",
       " 'n',\n",
       " 'o',\n",
       " 'p',\n",
       " 'q',\n",
       " 'r',\n",
       " 's',\n",
       " 't',\n",
       " 'u',\n",
       " 'v',\n",
       " 'w',\n",
       " 'x',\n",
       " 'y',\n",
       " 'z']"
      ]
     },
     "execution_count": 67,
     "metadata": {},
     "output_type": "execute_result"
    }
   ],
   "source": [
    "x=list('abcdefghijklmnopqrstuvwxyz')\n",
    "x"
   ]
  },
  {
   "cell_type": "code",
   "execution_count": 75,
   "metadata": {},
   "outputs": [
    {
     "name": "stdout",
     "output_type": "stream",
     "text": [
      "ap\n",
      "ao\n",
      "ai\n",
      "bp\n",
      "bo\n",
      "bi\n",
      "cp\n",
      "co\n",
      "ci\n",
      "dp\n",
      "do\n",
      "di\n",
      "ep\n",
      "eo\n",
      "ei\n"
     ]
    }
   ],
   "source": [
    "x='abcde'\n",
    "y='poi'\n",
    "for i in x:\n",
    "    for j in y:\n",
    "        print(i+j)"
   ]
  },
  {
   "cell_type": "code",
   "execution_count": null,
   "metadata": {},
   "outputs": [],
   "source": [
    "for x in [1,2,3]:\n",
    "    for y in [1,2,3]:\n",
    "        print(x+y)\n",
    "        print('-----')"
   ]
  },
  {
   "cell_type": "code",
   "execution_count": 21,
   "metadata": {},
   "outputs": [],
   "source": [
    "def p1(x):\n",
    "    ''' p(x)=(x-1)⁶'''\n",
    "    return (x-1)**6 # ** puissance \n",
    "def p2(x):\n",
    "    '''version développer de p(x)'''\n",
    "    return x**6 - 6*x**5 + 15*x**4 - 20*x**3 + 15*x**2 - 6*x + 1\n",
    "    "
   ]
  },
  {
   "cell_type": "code",
   "execution_count": 20,
   "metadata": {},
   "outputs": [
    {
     "name": "stdout",
     "output_type": "stream",
     "text": [
      "p1(0.998)=6.400000000000034e-17 \n",
      "p2(0.998)=1.7763568394002505e-15 \n"
     ]
    }
   ],
   "source": [
    "# le calcul de p1(0.998)\n",
    "print('p1({})={} '.format(0.998,p1(0.998)))\n",
    "# le calcul de p2(0.998)\n",
    "print('p2({})={} '.format(0.998,p2(0.998)))"
   ]
  },
  {
   "cell_type": "code",
   "execution_count": 21,
   "metadata": {},
   "outputs": [
    {
     "data": {
      "text/plain": [
       "64.0"
      ]
     },
     "execution_count": 21,
     "metadata": {},
     "output_type": "execute_result"
    }
   ],
   "source": [
    "p2(3)"
   ]
  },
  {
   "cell_type": "markdown",
   "metadata": {},
   "source": [
    "\n",
    "\n",
    "### Solution de l'exercice 1 avec Python\n"
   ]
  },
  {
   "cell_type": "code",
   "execution_count": 2,
   "metadata": {},
   "outputs": [],
   "source": [
    "def p1(x):\n",
    "    ''' p(x)=(x-1)⁶'''\n",
    "    return (x-1)**6 # ** puissance \n",
    "def p2(x):\n",
    "    '''version développer de p(x)'''\n",
    "    return x**6 - 6*x**5 + 15*x**4 - 20*x**3 + 15*x**2 - 6*x + 1"
   ]
  },
  {
   "cell_type": "code",
   "execution_count": 30,
   "metadata": {},
   "outputs": [
    {
     "name": "stdout",
     "output_type": "stream",
     "text": [
      "6.400000000000034e-17\n",
      "1.7763568394002505e-15\n",
      "4.70458810000019e-17\n",
      "1.7763568394002505e-15\n",
      "3.40122240000027e-17\n",
      "0.0\n",
      "2.4137569000002966e-17\n",
      "-2.6645352591003757e-15\n",
      "1.6777216000002883e-17\n",
      "1.7763568394002505e-15\n",
      "1.1390624999997532e-17\n",
      "-8.881784197001252e-16\n",
      "7.529535999998606e-18\n",
      "1.7763568394002505e-15\n",
      "4.8268089999992834e-18\n",
      "-3.552713678800501e-15\n",
      "2.9859839999996844e-18\n",
      "-8.881784197001252e-16\n",
      "1.7715609999999022e-18\n",
      "-8.881784197001252e-16\n",
      "1.0000000000000053e-18\n",
      "0.0\n",
      "5.314410000000422e-19\n",
      "-1.7763568394002505e-15\n",
      "2.6214400000004505e-19\n",
      "-8.881784197001252e-16\n",
      "1.1764900000003422e-19\n",
      "8.881784197001252e-16\n",
      "4.6656000000020966e-20\n",
      "-1.7763568394002505e-15\n",
      "1.5624999999989676e-20\n",
      "1.7763568394002505e-15\n",
      "4.0959999999972936e-21\n",
      "-1.7763568394002505e-15\n",
      "7.289999999995183e-22\n",
      "3.552713678800501e-15\n",
      "6.399999999995771e-23\n",
      "-2.6645352591003757e-15\n",
      "9.999999999993393e-25\n",
      "3.552713678800501e-15\n",
      "0.0\n",
      "0.0\n",
      "9.999999999993393e-25\n",
      "-3.552713678800501e-15\n",
      "6.399999999995771e-23\n",
      "-2.6645352591003757e-15\n",
      "7.289999999995183e-22\n",
      "-1.7763568394002505e-15\n",
      "4.0959999999972936e-21\n",
      "-5.329070518200751e-15\n",
      "1.5624999999989676e-20\n",
      "1.7763568394002505e-15\n",
      "4.665599999996917e-20\n",
      "2.6645352591003757e-15\n",
      "1.1764899999992225e-19\n",
      "-3.552713678800501e-15\n",
      "2.621439999998268e-19\n",
      "1.7763568394002505e-15\n",
      "5.314409999996488e-19\n",
      "-5.329070518200751e-15\n",
      "9.999999999993393e-19\n",
      "-2.6645352591003757e-15\n",
      "1.771561000000975e-18\n",
      "0.0\n",
      "2.985984000001342e-18\n",
      "0.0\n",
      "4.826809000001757e-18\n",
      "8.881784197001252e-16\n",
      "7.52953600000219e-18\n",
      "1.7763568394002505e-15\n",
      "1.139062500000259e-17\n",
      "5.329070518200751e-15\n",
      "1.6777216000002883e-17\n",
      "3.552713678800501e-15\n",
      "2.4137569000002966e-17\n",
      "8.881784197001252e-16\n",
      "3.40122240000027e-17\n",
      "1.7763568394002505e-15\n",
      "4.70458810000019e-17\n",
      "3.552713678800501e-15\n"
     ]
    }
   ],
   "source": [
    "P1=[]\n",
    "P2=[]\n",
    "L=[i/10000 for i in range(9980,10020)]\n",
    "for i in L : \n",
    "    print(p1(i))\n",
    "    P1.append(p1(i))\n",
    "    print(p2(i))\n",
    "    P2.append(p2(i))"
   ]
  },
  {
   "cell_type": "code",
   "execution_count": 32,
   "metadata": {},
   "outputs": [
    {
     "data": {
      "image/png": "[encoded data removed]",
      "text/plain": [
       "<Figure size 432x288 with 1 Axes>"
      ]
     },
     "metadata": {
      "needs_background": "light"
     },
     "output_type": "display_data"
    }
   ],
   "source": [
    "import numpy as np\n",
    "import matplotlib.pyplot as plt\n",
    "\n",
    "x = np.array(L)\n",
    "y = np.array(P1)\n",
    "plt.plot(x,y)\n",
    "plt.show()"
   ]
  },
  {
   "cell_type": "code",
   "execution_count": 33,
   "metadata": {},
   "outputs": [
    {
     "data": {
      "image/png": "[encoded data removed]",
      "text/plain": [
       "<Figure size 432x288 with 1 Axes>"
      ]
     },
     "metadata": {
      "needs_background": "light"
     },
     "output_type": "display_data"
    }
   ],
   "source": [
    "import numpy as np\n",
    "import matplotlib.pyplot as plt\n",
    "\n",
    "x = np.array(L)\n",
    "y = np.array(P2)\n",
    "plt.plot(x,y)\n",
    "plt.show()"
   ]
  },
  {
   "cell_type": "markdown",
   "metadata": {},
   "source": [
    "## Expliquer ces sources d'erreurs !!!!"
   ]
  },
  {
   "cell_type": "code",
   "execution_count": 3,
   "metadata": {},
   "outputs": [],
   "source": [
    "###### Erreur de codage\n",
    "\n",
    "\n",
    "\n",
    "\n",
    "\n",
    "\n",
    "\n"
   ]
  },
  {
   "cell_type": "markdown",
   "metadata": {},
   "source": [
    "# EXERCICE 2:\n",
    "\n",
    ">On considère l'équation : $$ f(x)=x^3+x^2-3x-3=0$$\n",
    ">1) Dessiner la courbe de $f$ dans l'intervalle $[-2;2]$, puis trouver des intervalles convenables pour appliquer la méthode de >bisection.\n",
    ">\n",
    ">2) Utiliser un programme `dicho.m` qui permettra de trouver les solutions de l'équation $f(x)=0$ avec $eps=0.001$.\n",
    ">\n",
    ">3) Modifier le programme `dicho.m` pour qu'il donne le nombre d'itération nécessaire pour avoir la solution à $eps$ près."
   ]
  },
  {
   "cell_type": "markdown",
   "metadata": {},
   "source": [
    "## Version Python"
   ]
  },
  {
   "cell_type": "code",
   "execution_count": 2,
   "metadata": {},
   "outputs": [
    {
     "data": {
      "text/plain": [
       "[<matplotlib.lines.Line2D at 0x7fc8355c4a20>]"
      ]
     },
     "execution_count": 2,
     "metadata": {},
     "output_type": "execute_result"
    },
    {
     "data": {
      "image/png": "[encoded data removed]",
      "text/plain": [
       "<Figure size 432x288 with 1 Axes>"
      ]
     },
     "metadata": {
      "needs_background": "light"
     },
     "output_type": "display_data"
    }
   ],
   "source": [
    "import matplotlib.pyplot as plt\n",
    "from numpy import linspace\n",
    "f=lambda x: x**3+x**2-3*x-3\n",
    "T=linspace(-2,2,41)\n",
    "plt.title(\"solution dans [-2:2] \");\n",
    "plt.xlabel(\"x\")\n",
    "plt.ylabel (\"f(x)\")\n",
    "plt.grid(True)\n",
    "plt.plot(T,f(T))\n"
   ]
  },
  {
   "cell_type": "markdown",
   "metadata": {},
   "source": [
    "# Daprés le graph de $f$ il existe 3 solutions :\n",
    "- $\\alpha_1 \\in ]-2;-1.5[$ \n",
    "- $\\alpha_2 \\in ]-1.5;-0.5[$ \n",
    "- $\\alpha_3 \\in ]1.5;2[$ "
   ]
  },
  {
   "cell_type": "code",
   "execution_count": 36,
   "metadata": {},
   "outputs": [],
   "source": [
    "def dicho (a,b,f,tol):\n",
    "    m=(a+b)/2\n",
    "    err=abs(b-a)\n",
    "    while err>tol:\n",
    "        if f(m)==0 :\n",
    "            break\n",
    "        elif f(a)*f(m)<0 :\n",
    "            b=m\n",
    "        else :\n",
    "            a=m\n",
    "        m=(a+b)/2\n",
    "        err=abs(b-a)\n",
    "    return m"
   ]
  },
  {
   "cell_type": "code",
   "execution_count": 40,
   "metadata": {},
   "outputs": [
    {
     "name": "stdout",
     "output_type": "stream",
     "text": [
      "-1.75 -1.75 -1.75\n"
     ]
    }
   ],
   "source": [
    "f=lambda x: x**3+x**2-3*x-3\n",
    "x3=dicho(-2,-1.5,f,10)\n",
    "x10=dicho(-2,-1.5,f,10)\n",
    "x20=dicho(-2,-1.5,f,20)\n",
    "print(x3,x10,x20)"
   ]
  },
  {
   "cell_type": "markdown",
   "metadata": {},
   "source": [
    "### Donner la version python de `dicho`"
   ]
  },
  {
   "cell_type": "code",
   "execution_count": 3,
   "metadata": {},
   "outputs": [],
   "source": [
    "def dicho(a,b,f,n):\n",
    "    '''version itérative '''\n",
    "    pass\n",
    "    "
   ]
  },
  {
   "cell_type": "code",
   "execution_count": 43,
   "metadata": {},
   "outputs": [
    {
     "name": "stdout",
     "output_type": "stream",
     "text": [
      "-1.732025146484375 -1.0 1.732025146484375\n"
     ]
    }
   ],
   "source": [
    "x1=dicho(-2,-1.5,f,0.0001)\n",
    "x2=dicho(-1.5,-0.5,f,0.0001)\n",
    "x3=dicho(1.5,2,f,0.0001)\n",
    "#x10=dicho(-2,-1.5,f,10)\n",
    "#x20=dicho(-2,-1.5,f,20)\n",
    "#print(x3,x10,x20)\n",
    "print(x1,x2,x3)"
   ]
  },
  {
   "cell_type": "code",
   "execution_count": 33,
   "metadata": {},
   "outputs": [
    {
     "name": "stdout",
     "output_type": "stream",
     "text": [
      "f(x10)=0.0002971846843138337,f(x20)=9.857414049463387e-07\n"
     ]
    }
   ],
   "source": [
    "print('f(x10)={},f(x20)={}'.format(f(x10),f(x20)))"
   ]
  },
  {
   "cell_type": "code",
   "execution_count": null,
   "metadata": {},
   "outputs": [],
   "source": []
  },
  {
   "cell_type": "code",
   "execution_count": 7,
   "metadata": {},
   "outputs": [],
   "source": [
    "def dichow(a,b,f,eps):\n",
    "    \"\"\"version tant que qui renvoila solution avec le nombre d'''itération \"\"\"\n",
    "    pass"
   ]
  },
  {
   "cell_type": "markdown",
   "metadata": {},
   "source": [
    "- $\\alpha_1 \\in ]-2;-1.5[$ \n",
    "- $\\alpha_2 \\in ]-1.5;-0.5[$ \n",
    "- $\\alpha_3 \\in ]1.5;2[$ "
   ]
  },
  {
   "cell_type": "code",
   "execution_count": 21,
   "metadata": {},
   "outputs": [
    {
     "data": {
      "text/plain": [
       "(-1.73199462890625, 13)"
      ]
     },
     "execution_count": 21,
     "metadata": {},
     "output_type": "execute_result"
    }
   ],
   "source": [
    "dichow(-2,-1.5,f,0.0001)"
   ]
  },
  {
   "cell_type": "code",
   "execution_count": 18,
   "metadata": {},
   "outputs": [
    {
     "data": {
      "text/plain": [
       "3.0"
      ]
     },
     "execution_count": 18,
     "metadata": {},
     "output_type": "execute_result"
    }
   ],
   "source": [
    "import numpy as np\n",
    "np.floor(2.3)\n",
    "np.ceil(2.3)"
   ]
  },
  {
   "cell_type": "code",
   "execution_count": 25,
   "metadata": {},
   "outputs": [
    {
     "data": {
      "text/plain": [
       "-1.0"
      ]
     },
     "execution_count": 25,
     "metadata": {},
     "output_type": "execute_result"
    }
   ],
   "source": [
    "import numpy as np\n",
    "a=-1.5\n",
    "b=-0.5\n",
    "p=8 # précision à 10 ^-8 prés\n",
    "dichow(a,b,f,10**(-p))\n",
    "#à 10^-8\n"
   ]
  },
  {
   "cell_type": "code",
   "execution_count": 29,
   "metadata": {},
   "outputs": [
    {
     "name": "stdout",
     "output_type": "stream",
     "text": [
      "(-1.7314453125, 9)\n",
      "-1.0\n",
      "(1.7314453125, 9)\n",
      "(-1.7314453125, 9)\n",
      "-1.0\n",
      "(1.7314453125, 9)\n"
     ]
    }
   ],
   "source": [
    "interval=[[-2,-1.5],[-1.5,-0.5],[1.5,2]]\n",
    "for u in interval:\n",
    "    print(dichow(u[0],u[1],f,10**(-3)))\n",
    "################################################   \n",
    "print(dichow(-2,-1.5,f,10**(-3)))\n",
    "print(dichow(-1.5,-0.5,f,10**(-3)))\n",
    "print(dichow(1.5,2,f,10**(-3)))\n"
   ]
  },
  {
   "cell_type": "markdown",
   "metadata": {},
   "source": [
    "Le nombre d'itération N nécéssaire à la méthode de la dichotomie pour trouver $\\alpha$ à $10^{-p}$ prés \n",
    "\n",
    "$$N \\geq E\\left(\\dfrac{\\ln(b-a)+p\\ln(10)}{\\ln(2)}\\right)+1$$"
   ]
  },
  {
   "cell_type": "code",
   "execution_count": 44,
   "metadata": {},
   "outputs": [],
   "source": [
    "\n",
    "## Ecrire une fonction qui permet de renvoyer le nombre d'itération nécessaire à la méthode de dichotomie pour calculer\n",
    "## la solution à 10^-p près\n",
    "#ND=lambda p:...............\n",
    "def iteration(a,b,ND):\n",
    "    return int((np.log(b-a)+ND*np.log(10)/np.log(2)))+1"
   ]
  },
  {
   "cell_type": "code",
   "execution_count": 47,
   "metadata": {},
   "outputs": [
    {
     "data": {
      "text/plain": [
       "16"
      ]
     },
     "execution_count": 47,
     "metadata": {},
     "output_type": "execute_result"
    }
   ],
   "source": [
    "iteration(-2,-1.5,5)"
   ]
  },
  {
   "cell_type": "code",
   "execution_count": 59,
   "metadata": {},
   "outputs": [
    {
     "data": {
      "text/plain": [
       "16.0"
      ]
     },
     "execution_count": 59,
     "metadata": {},
     "output_type": "execute_result"
    }
   ],
   "source": [
    "a=-2\n",
    "b=-1.5\n",
    "ND(5)"
   ]
  },
  {
   "cell_type": "code",
   "execution_count": 60,
   "metadata": {},
   "outputs": [
    {
     "data": {
      "text/plain": [
       "(-1.7320480346679688, 16)"
      ]
     },
     "execution_count": 60,
     "metadata": {},
     "output_type": "execute_result"
    }
   ],
   "source": [
    "#alpha 1\n",
    "dichow(-2,-1.5,f,10**(-5))\n",
    "#à 10^-8"
   ]
  },
  {
   "cell_type": "code",
   "execution_count": 67,
   "metadata": {},
   "outputs": [
    {
     "data": {
      "text/plain": [
       "(-0.9999990081787109, 17)"
      ]
     },
     "execution_count": 67,
     "metadata": {},
     "output_type": "execute_result"
    }
   ],
   "source": [
    "#alpha 2\n",
    "dichow(-1.51,-0.5,f,10**(-5))\n",
    "#à 10^-8"
   ]
  },
  {
   "cell_type": "markdown",
   "metadata": {},
   "source": [
    "## Méthode graphique pour la recherche de la solution "
   ]
  },
  {
   "cell_type": "code",
   "execution_count": 39,
   "metadata": {},
   "outputs": [
    {
     "data": {
      "image/png": "[encoded data removed]",
      "text/plain": [
       "<Figure size 432x288 with 4 Axes>"
      ]
     },
     "metadata": {
      "needs_background": "light"
     },
     "output_type": "display_data"
    }
   ],
   "source": [
    "%matplotlib inline\n",
    "#import mpld3\n",
    "#mpld3.enable_notebook()\n",
    "import numpy as np \n",
    "import matplotlib.pyplot as plt\n",
    "\n",
    "f=lambda x:x**3+x**2-3*x-3\n",
    "\n",
    "t=np.linspace(1.7,1.75,100)\n",
    "plt.subplot(2,2,1)\n",
    "plt.plot(t,f(t),'r')\n",
    "plt.grid(True)\n",
    "##########################################\n",
    "t=np.linspace(1.2,1.4,100)\n",
    "plt.subplot(2,2,2)\n",
    "plt.plot(t,f(t),'r')\n",
    "plt.grid(True)\n",
    "##########################################\n",
    "t=np.linspace(1.35,1.4,100)\n",
    "plt.subplot(2,2,3)\n",
    "plt.plot(t,f(t),'r')\n",
    "plt.grid(True)\n",
    "#########################################\n",
    "t=np.linspace(1.365,1.367,100)\n",
    "plt.subplot(2,2,4)\n",
    "plt.plot(t,f(t),'r')\n",
    "plt.grid(True)\n"
   ]
  },
  {
   "cell_type": "markdown",
   "metadata": {},
   "source": [
    "## Transformer le code précédent pour trouver desvaleurs approchées des solutions $\\alpha_1$, $\\alpha_2$ et $\\alpha_3$ de l'equation (E)"
   ]
  },
  {
   "cell_type": "code",
   "execution_count": 46,
   "metadata": {},
   "outputs": [
    {
     "ename": "NameError",
     "evalue": "name 'dichow' is not defined",
     "output_type": "error",
     "traceback": [
      "\u001b[1;31m---------------------------------------------------------------------------\u001b[0m",
      "\u001b[1;31mNameError\u001b[0m                                 Traceback (most recent call last)",
      "\u001b[1;32m<ipython-input-46-796b18650334>\u001b[0m in \u001b[0;36m<module>\u001b[1;34m\u001b[0m\n\u001b[0;32m      1\u001b[0m \u001b[1;31m#alpha 1\u001b[0m\u001b[1;33m\u001b[0m\u001b[1;33m\u001b[0m\u001b[1;33m\u001b[0m\u001b[0m\n\u001b[1;32m----> 2\u001b[1;33m \u001b[0mdichow\u001b[0m\u001b[1;33m(\u001b[0m\u001b[1;33m-\u001b[0m\u001b[1;36m2\u001b[0m\u001b[1;33m,\u001b[0m\u001b[1;33m-\u001b[0m\u001b[1;36m1.5\u001b[0m\u001b[1;33m,\u001b[0m\u001b[0mf\u001b[0m\u001b[1;33m,\u001b[0m\u001b[1;36m10\u001b[0m\u001b[1;33m**\u001b[0m\u001b[1;33m(\u001b[0m\u001b[1;33m-\u001b[0m\u001b[1;36m5\u001b[0m\u001b[1;33m)\u001b[0m\u001b[1;33m)\u001b[0m\u001b[1;33m\u001b[0m\u001b[1;33m\u001b[0m\u001b[0m\n\u001b[0m\u001b[0;32m      3\u001b[0m \u001b[1;31m#à 10^-8\u001b[0m\u001b[1;33m\u001b[0m\u001b[1;33m\u001b[0m\u001b[1;33m\u001b[0m\u001b[0m\n",
      "\u001b[1;31mNameError\u001b[0m: name 'dichow' is not defined"
     ]
    }
   ],
   "source": [
    "#alpha 1\n",
    "dichow(-2,-1.5,f,10**(-5))\n",
    "#à 10^-8"
   ]
  },
  {
   "cell_type": "code",
   "execution_count": null,
   "metadata": {},
   "outputs": [],
   "source": [
    "#alpha 2\n",
    "dichow(-1.51,-0.5,f,10**(-5))\n",
    "#à 10^-8"
   ]
  },
  {
   "cell_type": "markdown",
   "metadata": {},
   "source": [
    "# EXERCICE 3:\n",
    ">On considère l'équation : $$ f(x)=x^3+4x^2-10=0$$\n",
    ">1) Dessiner la courbe de $f$ dans l'intervalle $[1;2]$, puis trouver une valeur approché de la solution à 0.001 près (En >utilisant la fonction zoom du graphique).\n",
    ">\n",
    ">2) Vérifier que cette équation est équivalente aux 3 schéma du point fixe suivant:\n",
    ">\n",
    ">a) $g_1(x)=\\frac{1}{2}\\sqrt{10-x^3}=x$.\n",
    ">\n",
    ">b) $g_2(x)=\\sqrt{\\displaystyle\\frac{10}{4+x}}=x$.\n",
    ">\n",
    ">c) $g_3(x)=x-x^3-4x^2+10=x$.\n",
    ">\n",
    ">3) Ecrire puis appliquer  une fonction Matlab que l'on appellera  `pointfixe.m` aux trois schémas précédents en prenant >`x0=1.5;eps=0.001`.\n",
    ">\n",
    ">4) Quelle est la fonction (parmi $g_1, g_2$ et $g_3$) qui donne la convergence la plus rapide?\n",
    ">"
   ]
  },
  {
   "cell_type": "markdown",
   "metadata": {},
   "source": [
    "### Correction <h3>"
   ]
  },
  {
   "cell_type": "markdown",
   "metadata": {},
   "source": [
    "#### 1)<h4>"
   ]
  },
  {
   "cell_type": "code",
   "execution_count": 40,
   "metadata": {},
   "outputs": [
    {
     "data": {
      "image/png": "[encoded data removed]",
      "text/plain": [
       "<Figure size 432x288 with 4 Axes>"
      ]
     },
     "metadata": {
      "needs_background": "light"
     },
     "output_type": "display_data"
    }
   ],
   "source": [
    "%matplotlib inline\n",
    "#import mpld3\n",
    "#mpld3.enable_notebook()\n",
    "import numpy as np \n",
    "import matplotlib.pyplot as plt\n",
    "\n",
    "f=lambda x:x**3+4*x**2-10\n",
    "\n",
    "t=np.linspace(1,2,100)\n",
    "plt.subplot(2,2,1)\n",
    "plt.plot(t,f(t),'r')\n",
    "plt.grid(True)\n",
    "##########################################\n",
    "t=np.linspace(1.2,1.4,100)\n",
    "plt.subplot(2,2,2)\n",
    "plt.plot(t,f(t),'r')\n",
    "plt.grid(True)\n",
    "##########################################\n",
    "t=np.linspace(1.35,1.4,100)\n",
    "plt.subplot(2,2,3)\n",
    "plt.plot(t,f(t),'r')\n",
    "plt.grid(True)\n",
    "#########################################\n",
    "t=np.linspace(1.365,1.367,100)\n",
    "plt.subplot(2,2,4)\n",
    "plt.plot(t,f(t),'r')\n",
    "plt.grid(True)\n"
   ]
  },
  {
   "cell_type": "markdown",
   "metadata": {},
   "source": [
    "#### 2) Justification théorique pour la fonction g1"
   ]
  },
  {
   "cell_type": "markdown",
   "metadata": {},
   "source": [
    "On considère l'équation : $$ f(x)=x^3+4x^2-10=0$$\n",
    "\n",
    "a) $g(x)=\\frac{1}{2}\\sqrt{10-x^3}=x$."
   ]
  },
  {
   "cell_type": "markdown",
   "metadata": {},
   "source": [
    " $$x^3+4x^2-10=0$$ \n",
    "    \n",
    " $$4x^2=10-x^3$$\n",
    " \n",
    " $$2x=\\sqrt{10-x^3}$$\n",
    " \n",
    " $$x=\\frac{1}{2}\\sqrt{10-x^3}$$\n",
    " \n",
    "Donc $ f(x)=g(x)$"
   ]
  },
  {
   "cell_type": "markdown",
   "metadata": {},
   "source": [
    "## Calcul symbolique de la dérivée"
   ]
  },
  {
   "cell_type": "code",
   "execution_count": 63,
   "metadata": {},
   "outputs": [],
   "source": [
    "from sympy import *\n",
    "import numpy as np\n",
    "x, y, z = symbols('x y z')\n",
    "init_printing(use_unicode=True)\n",
    "g1=lambda x: 1/2*sqrt(10-x**3)\n"
   ]
  },
  {
   "cell_type": "code",
   "execution_count": 76,
   "metadata": {},
   "outputs": [
    {
     "data": {
      "image/png": "[encoded data removed]",
      "text/latex": [
       "$$-0.5117446282927461$$"
      ],
      "text/plain": [
       "-0.5117446282927461"
      ]
     },
     "execution_count": 76,
     "metadata": {},
     "output_type": "execute_result"
    }
   ],
   "source": [
    "dg1=lambdify(x,diff(g1(x),x,1))\n",
    "dg1(1.365)"
   ]
  },
  {
   "cell_type": "markdown",
   "metadata": {},
   "source": [
    "### Que pouvez vous conclure à propos des convergences de g1"
   ]
  },
  {
   "cell_type": "code",
   "execution_count": null,
   "metadata": {},
   "outputs": [],
   "source": [
    "### g1 converge localement "
   ]
  },
  {
   "cell_type": "markdown",
   "metadata": {},
   "source": [
    "## Justification théoriques pour g2 et g3"
   ]
  },
  {
   "cell_type": "markdown",
   "metadata": {},
   "source": [
    "On considère l'équation : $$ f(x)=x^3+4x^2-10=0$$\n",
    "\n",
    "b) $g(x)=\\sqrt{\\displaystyle\\frac{10}{4+x}}=x$."
   ]
  },
  {
   "cell_type": "markdown",
   "metadata": {},
   "source": [
    "$$x^3+4x^2-10=0$$\n",
    "$$x^3+4x^2=10$$\n",
    "$$x^2(x+4)=10$$\n",
    "$$x^2=\\frac{10}{x+4}$$\n",
    "$$x=\\sqrt{\\displaystyle\\frac{10}{4+x}}$$\n",
    "Donc $ f(x)=g(x)$"
   ]
  },
  {
   "cell_type": "markdown",
   "metadata": {},
   "source": [
    "On considère l'équation : $$ f(x)=x^3+4x^2-10=0$$\n",
    "c) $g(x)=x-x^3-4x^2+10=x$."
   ]
  },
  {
   "cell_type": "markdown",
   "metadata": {},
   "source": [
    "$$x^3+4x^2-10=0$$\n",
    "$$x^3+4x^2-10+x-x=0$$\n",
    "$$x^3-4x^2+x-x=10$$\n",
    "$$x^3-4x^2+x=x+10$$\n",
    "$$4x^2+x=x-x^3+10$$\n",
    "$$x=x-x^3-4x^2+10$$\n",
    "Donc $ f(x)=g(x)$"
   ]
  },
  {
   "cell_type": "markdown",
   "metadata": {},
   "source": [
    "## Etudier théoriquement la convergences de g2 et g3"
   ]
  },
  {
   "cell_type": "code",
   "execution_count": null,
   "metadata": {},
   "outputs": [],
   "source": []
  },
  {
   "cell_type": "code",
   "execution_count": null,
   "metadata": {},
   "outputs": [],
   "source": []
  },
  {
   "cell_type": "code",
   "execution_count": null,
   "metadata": {},
   "outputs": [],
   "source": []
  },
  {
   "cell_type": "markdown",
   "metadata": {},
   "source": [
    "### Donner la solution avec un codepython \n"
   ]
  },
  {
   "cell_type": "code",
   "execution_count": 94,
   "metadata": {},
   "outputs": [],
   "source": [
    "f=lambda x:  x**3+4*x**2-10 # la fonction f\n",
    "g1=lambda x: 1/2*sqrt(10-x**3)\n",
    "g2=lambda x: sqrt(10/(x+4))\n",
    "g3=lambda x: x-x**3-4*x**2 + 10\n",
    "\n",
    "\n",
    "def ptfixe(g,x0,eps,nmax:\n",
    "    zero=x0\n",
    "    for i in range(nmax):\n",
    "        x=zero\n",
    "        zero=g(x)\n",
    "        err=abs(zero-x)\n",
    "        if err<eps:\n",
    "            return a,i\n",
    "\n",
    "    print('pas de convergence avec le nombre d''iteration indique')\n",
    "\n"
   ]
  },
  {
   "cell_type": "code",
   "execution_count": null,
   "metadata": {},
   "outputs": [],
   "source": [
    "import numpy as np\n",
    "x, y, z = symbols('x y z')\n",
    "init_printing(use_unicode=True)\n",
    "g5=lambda x: 1/2*sqrt(10-x**3)\n",
    "g2=lambda x: sqrt(10/(x+4))\n",
    "g3=lambda x: x-x**3-4*x**2+10"
   ]
  },
  {
   "cell_type": "code",
   "execution_count": null,
   "metadata": {},
   "outputs": [],
   "source": [
    "ptfixe(g3,1.5,0.0001,30)"
   ]
  },
  {
   "cell_type": "code",
   "execution_count": null,
   "metadata": {},
   "outputs": [],
   "source": [
    "ptfixe(g2,1.5,0.0001,30)"
   ]
  },
  {
   "cell_type": "code",
   "execution_count": null,
   "metadata": {},
   "outputs": [],
   "source": [
    "ptfixe(g1,1.5,0.0001,30)"
   ]
  },
  {
   "cell_type": "markdown",
   "metadata": {},
   "source": [
    "### quelle est la fonction qui donne la convergence la plus rapide ??\n",
    "\n",
    "Donner le nombre d'itération pour chaque méthode convergent e\n",
    "+ $g_2$ donne le resultat en ? itérations \n",
    "+ $g_1$ donne le resultat en ?\n",
    "+ $g_3$ est - elle convergente?"
   ]
  },
  {
   "cell_type": "code",
   "execution_count": null,
   "metadata": {},
   "outputs": [],
   "source": [
    "###la fonction qui donne la convergence la plus rapide est g2 avec un nombre d'itération égal à 3"
   ]
  },
  {
   "cell_type": "markdown",
   "metadata": {},
   "source": [
    "# EXERCICE 4:\n",
    ">1) On considère la fonction $f(x)=e^{-x}-x$. Ecrire puis appliquer  une fonction Matlab que l'on appellera `newton.m` à la >fonction $f$, en prenant $x0=0$, $eps=0.001$ .\n",
    ">\n",
    ">2) Montrer que l'équation $f(x)=0$ admet une solution unique que l'on peut obtenir en utilisant la méthode de Newton à partir >de $x0=1$."
   ]
  },
  {
   "cell_type": "markdown",
   "metadata": {},
   "source": [
    "### Solution Python"
   ]
  },
  {
   "cell_type": "markdown",
   "metadata": {},
   "source": [
    "## Donner la solution entière avecun code python"
   ]
  },
  {
   "cell_type": "code",
   "execution_count": null,
   "metadata": {},
   "outputs": [],
   "source": [
    "def newtonn(f,a,eps):\n",
    "    x1=a\n",
    "    x2=x1-f(x1)/fprime(x1)\n",
    "    while abs(x1-x2)>eps :\n",
    "        x1=x2\n",
    "        x2=x1-f(x1)/fprime(x1)\n",
    "    return x2"
   ]
  },
  {
   "cell_type": "code",
   "execution_count": null,
   "metadata": {},
   "outputs": [],
   "source": [
    "import math\n",
    "from sympy import *\n",
    "\n",
    "f=lambda x: math.exp(-x)-x\n",
    "fprime=lambda x: -math.exp(-x)-1\n",
    "sol=newtonn(f,0,0.001)\n",
    "print(sol)"
   ]
  }
 ],
 "metadata": {
  "kernelspec": {
   "display_name": "Python 3",
   "language": "python",
   "name": "python3"
  },
  "language_info": {
   "codemirror_mode": {
    "name": "ipython",
    "version": 3
   },
   "file_extension": ".py",
   "mimetype": "text/x-python",
   "name": "python",
   "nbconvert_exporter": "python",
   "pygments_lexer": "ipython3",
   "version": "3.8.8"
  }
 },
 "nbformat": 4,
 "nbformat_minor": 2
}
